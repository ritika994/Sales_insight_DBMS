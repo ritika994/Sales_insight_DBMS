{
 "cells": [
  {
   "cell_type": "markdown",
   "metadata": {
    "colab_type": "text",
    "id": "view-in-github"
   },
   "source": [
    "<a href=\"https://colab.research.google.com/github/omnimanwani/Sales_insight_DBMS/blob/main/Sales_insight_DBMS.ipynb\" target=\"_parent\"><img src=\"https://colab.research.google.com/assets/colab-badge.svg\" alt=\"Open In Colab\"/></a>"
   ]
  },
  {
   "cell_type": "code",
   "execution_count": null,
   "metadata": {
    "colab": {
     "base_uri": "https://localhost:8080/"
    },
    "id": "eoWftSCukgkO",
    "outputId": "adaa352a-dbe2-437f-84ce-460db6d1ddac"
   },
   "outputs": [
    {
     "name": "stdout",
     "output_type": "stream",
     "text": [
      "Requirement already satisfied: mysql-connector-python in /usr/local/lib/python3.10/dist-packages (8.3.0)\n"
     ]
    }
   ],
   "source": [
    "!pip install mysql-connector-python"
   ]
  },
  {
   "cell_type": "code",
   "execution_count": null,
   "metadata": {
    "colab": {
     "base_uri": "https://localhost:8080/"
    },
    "id": "r1f9wOHhFtd6",
    "outputId": "b5d8fb61-0884-400e-acd7-b0ea866cac92"
   },
   "outputs": [
    {
     "name": "stdout",
     "output_type": "stream",
     "text": [
      "Requirement already satisfied: pandas in /usr/local/lib/python3.10/dist-packages (2.0.3)\n",
      "Requirement already satisfied: python-dateutil>=2.8.2 in /usr/local/lib/python3.10/dist-packages (from pandas) (2.8.2)\n",
      "Requirement already satisfied: pytz>=2020.1 in /usr/local/lib/python3.10/dist-packages (from pandas) (2023.4)\n",
      "Requirement already satisfied: tzdata>=2022.1 in /usr/local/lib/python3.10/dist-packages (from pandas) (2024.1)\n",
      "Requirement already satisfied: numpy>=1.21.0 in /usr/local/lib/python3.10/dist-packages (from pandas) (1.25.2)\n",
      "Requirement already satisfied: six>=1.5 in /usr/local/lib/python3.10/dist-packages (from python-dateutil>=2.8.2->pandas) (1.16.0)\n"
     ]
    }
   ],
   "source": [
    "!pip install pandas\n",
    "import pandas as pd"
   ]
  },
  {
   "cell_type": "code",
   "execution_count": null,
   "metadata": {
    "colab": {
     "base_uri": "https://localhost:8080/"
    },
    "id": "IkAsDNUTlQgu",
    "outputId": "63192095-5b0f-4a1d-940c-8878ea68bca4"
   },
   "outputs": [
    {
     "name": "stdout",
     "output_type": "stream",
     "text": [
      "Reading package lists... Done\n",
      "Building dependency tree... Done\n",
      "Reading state information... Done\n",
      "mysql-server is already the newest version (8.0.36-0ubuntu0.22.04.1).\n",
      "0 upgraded, 0 newly installed, 0 to remove and 45 not upgraded.\n"
     ]
    }
   ],
   "source": [
    "!apt-get -y install mysql-server"
   ]
  },
  {
   "cell_type": "code",
   "execution_count": null,
   "metadata": {
    "colab": {
     "base_uri": "https://localhost:8080/"
    },
    "id": "rIEhs4M6mNV7",
    "outputId": "53bcadba-51a8-4946-9dc4-4fa44be99d03"
   },
   "outputs": [
    {
     "name": "stdout",
     "output_type": "stream",
     "text": [
      " * Starting MySQL database server mysqld\n",
      "   ...done.\n",
      " * /usr/bin/mysqladmin  Ver 8.0.36-0ubuntu0.22.04.1 for Linux on x86_64 ((Ubuntu))\n",
      "Copyright (c) 2000, 2024, Oracle and/or its affiliates.\n",
      "\n",
      "Oracle is a registered trademark of Oracle Corporation and/or its\n",
      "affiliates. Other names may be trademarks of their respective\n",
      "owners.\n",
      "\n",
      "Server version\t\t8.0.36-0ubuntu0.22.04.1\n",
      "Protocol version\t10\n",
      "Connection\t\tLocalhost via UNIX socket\n",
      "UNIX socket\t\t/var/run/mysqld/mysqld.sock\n",
      "Uptime:\t\t\t51 min 22 sec\n",
      "\n",
      "Threads: 4  Questions: 1056  Slow queries: 0  Opens: 176  Flush tables: 3  Open tables: 87  Queries per second avg: 0.342\n"
     ]
    }
   ],
   "source": [
    "!service mysql start\n",
    "!service mysql status"
   ]
  },
  {
   "cell_type": "code",
   "execution_count": null,
   "metadata": {
    "colab": {
     "base_uri": "https://localhost:8080/"
    },
    "id": "TnL7Q_D52Jh5",
    "outputId": "ca372feb-ea8a-40b2-fda4-f5552e63a12c"
   },
   "outputs": [
    {
     "name": "stdout",
     "output_type": "stream",
     "text": [
      "ERROR 1045 (28000): Access denied for user 'root'@'localhost' (using password: NO)\n"
     ]
    }
   ],
   "source": [
    "!mysql -e \"ALTER USER 'root'@'localhost' IDENTIFIED WITH 'mysql_native_password' BY 'root';FLUSH PRIVILEGES;\""
   ]
  },
  {
   "cell_type": "code",
   "execution_count": null,
   "metadata": {
    "id": "702bRsxLvNOL"
   },
   "outputs": [],
   "source": [
    "import numpy as np\n",
    "import matplotlib.pyplot as plt"
   ]
  },
  {
   "cell_type": "code",
   "execution_count": null,
   "metadata": {
    "colab": {
     "base_uri": "https://localhost:8080/"
    },
    "id": "p5tU_gO19fBC",
    "outputId": "8db94412-31bc-45e6-c138-e048ab6db2b4"
   },
   "outputs": [
    {
     "name": "stdout",
     "output_type": "stream",
     "text": [
      "Drive already mounted at /content/drive; to attempt to forcibly remount, call drive.mount(\"/content/drive\", force_remount=True).\n"
     ]
    }
   ],
   "source": [
    "from google.colab import drive\n",
    "drive.mount('/content/drive')"
   ]
  },
  {
   "cell_type": "code",
   "execution_count": null,
   "metadata": {
    "id": "M-kreW7ylu8-"
   },
   "outputs": [],
   "source": [
    "def menu():\n",
    "  c='y'\n",
    "  while(c=='y' or c=='Y'):\n",
    "    print(\"Choose the Query you want to analyze data on: \")\n",
    "    print(\"\\nGENERIC QUESTIONS: \\n\")\n",
    "    print(\"1: How many unique cities does the data have?\")\n",
    "    print(\"2: In which city is each branch?\")\n",
    "    print(\"\\nPRODUCT RELATED QUESTIONS: \\n\")\n",
    "    print(\"3: How many unique product lines does the data have?\")\n",
    "    print(\"4: What is the most selling product line?\")\n",
    "    print(\"5: What is the total revenue by month?\")\n",
    "    print(\"6: What month had the largest COGS?\")\n",
    "    print(\"7: What product line had the largest revenue?\")\n",
    "    print(\"8: What is the city with the largest revenue?\")\n",
    "    print(\"9: What product line had the largest VAT?\")\n",
    "    print(\"10: Fetch each product line and add a column to those product lines showing 'Good', 'Bad' based on their average sales\")\n",
    "    print(\"11: Which branch sold more products than average product sold?\")\n",
    "    print(\"12: What is the most common product line by gender?\")\n",
    "    print(\"13: What is the average rating of each product line?\")\n",
    "    print(\"14: What is the most common payment method?\")\n",
    "    print(\"\\nCUSTOMER RELATED QUESTIONS: \\n\")\n",
    "    print(\"15: How many unique customer types does the data have?\")\n",
    "    print(\"16: How many unique payment methods does the data have?\")\n",
    "    print(\"17: What is the most common customer type?\")\n",
    "    print(\"18: Which customer type buys the most?\")\n",
    "    print(\"19: What is the gender of most of the customers?\")\n",
    "    print(\"20: What is the gender distribution per branch?\")\n",
    "    print(\"21: Which time of the day do customers give most ratings?\")\n",
    "    print(\"22: Which time of the day do customers give most ratings per branch?\")\n",
    "    print(\"23: Which day of the week has the best avg ratings?\")\n",
    "    print(\"24: Which day of the week has the best average ratings per branch?\")\n",
    "    print(\"\\nSALES RELATED QUESTIONS: \\n\")\n",
    "    print(\"25: Number of sales made in each time of the day per weekday\")\n",
    "    print(\"26: Which of the customer types brings the most revenue?\")\n",
    "    print(\"27: Which city has the largest tax/VAT percent?\")\n",
    "    print(\"28: Which customer type pays the most in VAT?\")\n",
    "    print(\"29: Triggers\")\n",
    "    print(\"Enter 0 to EXIT.\\n\")\n",
    "    choice= int(input(\"Enter your choice: \"))\n",
    "    if(choice == 1):\n",
    "      run_one()\n",
    "    elif(choice == 2):\n",
    "      run_2()\n",
    "    elif(choice == 3):\n",
    "      run_3()\n",
    "    elif(choice == 4):\n",
    "      run_4()\n",
    "    elif(choice == 5):\n",
    "      run_5()\n",
    "    elif(choice == 6):\n",
    "      run_6()\n",
    "    elif(choice == 7):\n",
    "      run_7()\n",
    "    elif(choice == 8):\n",
    "      run_8()\n",
    "    elif(choice == 9):\n",
    "      run_9()\n",
    "    elif(choice == 10):\n",
    "      run_10()\n",
    "    elif(choice == 11):\n",
    "      run_11()\n",
    "    elif(choice == 12):\n",
    "      run_12()\n",
    "    elif(choice == 13):\n",
    "      run_13()\n",
    "    elif(choice == 14):\n",
    "      run_14()\n",
    "    elif(choice == 15):\n",
    "      run_15()\n",
    "    elif(choice == 16):\n",
    "      run_16()\n",
    "    elif(choice == 17):\n",
    "      run_17()\n",
    "    elif(choice == 18):\n",
    "      run_18()\n",
    "    elif(choice == 19):\n",
    "      run_19()\n",
    "    elif(choice == 20):\n",
    "      run_20()\n",
    "    elif(choice == 21):\n",
    "      run_21()\n",
    "    elif(choice == 22):\n",
    "      run_22()\n",
    "    elif(choice == 23):\n",
    "      run_23()\n",
    "    elif(choice == 24):\n",
    "      run_24()\n",
    "    elif(choice == 25):\n",
    "      run_25()\n",
    "    elif(choice == 26):\n",
    "      run_26()\n",
    "    elif(choice == 27):\n",
    "      run_27()\n",
    "    elif(choice == 28):\n",
    "      run_28()\n",
    "    elif(choice == 29):\n",
    "      run_29()\n",
    "    elif(choice == 0):\n",
    "      print(\"Exiting...\")\n",
    "      break\n",
    "    else:\n",
    "      print(\"\\nWrong Input, Enter again.\\n\")\n",
    "    c=input(\"\\nDo you want to continue?(y/n): \")\n"
   ]
  },
  {
   "cell_type": "code",
   "execution_count": null,
   "metadata": {
    "id": "iXme8sOD2pJn"
   },
   "outputs": [],
   "source": [
    "import mysql.connector\n",
    "mydb = mysql.connector.connect(user='root', password='root', host= 'localhost')\n",
    "cursor = mydb.cursor()\n",
    "cursor.execute(\"CREATE DATABASE IF NOT EXISTS walmartSales\")\n",
    "cursor.execute(\"USE walmartSales\")\n",
    "cursor.execute('''CREATE TABLE IF NOT EXISTS sales(\n",
    "    invoice_id VARCHAR(30) NOT NULL PRIMARY KEY,\n",
    "    branch VARCHAR(5) NOT NULL,\n",
    "    city VARCHAR(30) NOT NULL,\n",
    "    customer_type VARCHAR(30) NOT NULL,\n",
    "    gender VARCHAR(30) NOT NULL,\n",
    "    product_line VARCHAR(100) NOT NULL,\n",
    "    unit_price DECIMAL(10,2) NOT NULL,\n",
    "    quantity INT NOT NULL,\n",
    "    tax_pct FLOAT(6,4) NOT NULL,\n",
    "    total DECIMAL(12, 4) NOT NULL,\n",
    "    date DATETIME NOT NULL,\n",
    "    time TIME NOT NULL,\n",
    "    payment VARCHAR(15) NOT NULL,\n",
    "    cogs DECIMAL(10,2) NOT NULL,\n",
    "    gross_margin_pct FLOAT(11,9),\n",
    "    gross_income DECIMAL(12, 4),\n",
    "    rating FLOAT)''')"
   ]
  },
  {
   "cell_type": "code",
   "execution_count": null,
   "metadata": {
    "id": "jcU4JMogWVz3"
   },
   "outputs": [],
   "source": [
    "file_path = \"/content/drive/MyDrive/WalmartSalesData.csv.csv\"\n",
    "data = pd.read_csv(file_path)\n",
    "data['Rating'] = data['Rating'].astype(float)\n",
    "for index, row in data.iterrows():\n",
    "    cursor.execute('''INSERT INTO sales (invoice_id, branch, city, customer_type, gender, product_line, unit_price, quantity, tax_pct, total, date, time, payment, cogs, gross_margin_pct, gross_income, rating)\n",
    "                      VALUES (%s, %s, %s, %s, %s, %s, %s, %s, %s, %s, %s, %s, %s, %s, %s, %s, %s)''',\n",
    "                      (row['Invoice ID'], row['Branch'], row['City'], row['Customer type'], row['Gender'], row['Product line'],\n",
    "                      row['Unit price'], row['Quantity'], row['Tax 5%'], row['Total'], row['Date'], row['Time'],\n",
    "                      row['Payment'], row['cogs'], row['gross margin percentage'], row['gross income'], row['Rating']))"
   ]
  },
  {
   "cell_type": "code",
   "execution_count": null,
   "metadata": {
    "id": "lcD9tvlFLmzk"
   },
   "outputs": [],
   "source": [
    "cursor.execute('''CREATE VIEW unique_cities_view AS\n",
    "                    SELECT DISTINCT city FROM sales''')\n",
    "cursor.execute('''CREATE VIEW branch_city_view AS\n",
    "                    SELECT DISTINCT branch, city FROM sales''')\n",
    "cursor.execute('''CREATE VIEW unique_product_lines_view AS\n",
    "                    SELECT DISTINCT product_line FROM sales''')\n",
    "cursor.execute('''CREATE VIEW revenue_by_month_view AS\n",
    "                    SELECT MONTHNAME(date) AS month, SUM(total) AS total_revenue\n",
    "                    FROM sales\n",
    "                    GROUP BY month''')\n",
    "cursor.execute('''CREATE VIEW month_largest_cogs_view AS\n",
    "                    SELECT MONTHNAME(date) AS month, SUM(cogs) AS cogs\n",
    "                    FROM sales\n",
    "                    GROUP BY month\n",
    "                    ORDER BY cogs DESC\n",
    "                    LIMIT 1''')\n",
    "cursor.execute('''CREATE VIEW product_line_largest_revenue_view AS\n",
    "                    SELECT product_line, SUM(total) AS total_revenue\n",
    "                    FROM sales\n",
    "                    GROUP BY product_line\n",
    "                    ORDER BY total_revenue DESC\n",
    "                    LIMIT 1''')\n",
    "cursor.execute('''CREATE VIEW city_largest_revenue_view AS\n",
    "                    SELECT branch, city, SUM(total) AS total_revenue\n",
    "                    FROM sales\n",
    "                    GROUP BY city, branch\n",
    "                    ORDER BY total_revenue DESC\n",
    "                    LIMIT 1''')\n",
    "cursor.execute('''CREATE VIEW product_line_largest_vat_view AS\n",
    "                    SELECT product_line, AVG(tax_pct) AS avg_tax\n",
    "                    FROM sales\n",
    "                    GROUP BY product_line\n",
    "                    ORDER BY avg_tax DESC\n",
    "                    LIMIT 1''')\n",
    "cursor.execute('''CREATE VIEW branches_above_avg_sales_view AS\n",
    "                    SELECT branch, SUM(quantity) AS total_quantity\n",
    "                    FROM sales\n",
    "                    GROUP BY branch\n",
    "                    HAVING total_quantity > (SELECT AVG(quantity) FROM sales)''')"
   ]
  },
  {
   "cell_type": "code",
   "execution_count": null,
   "metadata": {
    "id": "WLrzX1PXs8VF"
   },
   "outputs": [],
   "source": [
    "cursor.execute('''ALTER TABLE sales ADD CONSTRAINT unit_price_positive CHECK (unit_price > 0) ''')\n",
    "cursor.execute('''ALTER TABLE sales ADD CONSTRAINT quantity_positive CHECK (quantity > 0) ''')"
   ]
  },
  {
   "cell_type": "code",
   "execution_count": null,
   "metadata": {
    "id": "b6po3d1NtokQ"
   },
   "outputs": [],
   "source": [
    "cursor.execute('''CREATE TRIGGER calculate_gross_income BEFORE INSERT ON sales\n",
    "FOR EACH ROW\n",
    "BEGIN\n",
    "    SET NEW.gross_income = (NEW.total - NEW.cogs);\n",
    "END;\n",
    "''')\n",
    "cursor.execute('''CREATE TRIGGER enforce_gender_constraint BEFORE INSERT ON sales\n",
    "FOR EACH ROW\n",
    "BEGIN\n",
    "    IF NEW.gender NOT IN ('Male', 'Female', 'Other') THEN\n",
    "        SIGNAL SQLSTATE '45000' SET MESSAGE_TEXT = 'Invalid gender specified';\n",
    "    END IF;\n",
    "END;\n",
    "''')\n",
    "cursor.execute('''CREATE TRIGGER check_tax_pct_range\n",
    "BEFORE INSERT ON sales\n",
    "FOR EACH ROW\n",
    "BEGIN\n",
    "    IF NEW.tax_pct < 0 OR NEW.tax_pct > 100 THEN\n",
    "        SIGNAL SQLSTATE '45000' SET MESSAGE_TEXT = 'Tax percentage must be between 0 and 100';\n",
    "    END IF;\n",
    "END;\n",
    "''')"
   ]
  },
  {
   "cell_type": "code",
   "execution_count": null,
   "metadata": {
    "id": "k0fDH2RN1KaX"
   },
   "outputs": [],
   "source": [
    "def run_one():\n",
    "  import mysql.connector\n",
    "  mydb = mysql.connector.connect(user='root', password='root', host= 'localhost')\n",
    "  cursor = mydb.cursor()\n",
    "  cursor.execute(\"USE walmartSales\")\n",
    "  cursor.execute('SELECT COUNT(*) AS unique_cities_count FROM unique_cities_view')\n",
    "  res = cursor.fetchall()\n",
    "  print(\"Number of Cities of Sales: \"+str(res[0][0]))\n",
    "  sales=[]\n",
    "  city=[]\n",
    "  exp=[]\n",
    "  cursor.execute('''SELECT COUNT(total) AS sale_per_city, city FROM sales GROUP BY city''')\n",
    "  result = cursor.fetchall()\n",
    "\n",
    "  for i in result:\n",
    "    sales.append(i[0])\n",
    "    city.append(i[1])\n",
    "    exp.append(0.02)\n",
    "  plt.pie(sales, labels=city, autopct='%1.1f%%', explode = exp)\n",
    "  plt.title(\"Sales of Product in Cities\")\n",
    "  plt.show()\n",
    "  mydb.commit()"
   ]
  },
  {
   "cell_type": "code",
   "execution_count": null,
   "metadata": {
    "id": "FI1cBBOT9oqi"
   },
   "outputs": [],
   "source": [
    "def run_2():\n",
    "  import mysql.connector\n",
    "  mydb = mysql.connector.connect(user='root', password='root', host= 'localhost')\n",
    "  cursor = mydb.cursor()\n",
    "  cursor.execute(\"USE walmartSales\")\n",
    "  cursor.execute('''SELECT DISTINCT branch_city_view.branch, branch_city_view.city\n",
    "                    FROM branch_city_view''')\n",
    "  print(\"Different Branches in Cities: \")\n",
    "  print(\"Branch\", \"City\")\n",
    "  for i in cursor:\n",
    "    print(i[0], i[1])\n",
    "  mydb.commit()"
   ]
  },
  {
   "cell_type": "code",
   "execution_count": null,
   "metadata": {
    "id": "_5Pva0zpAOnm"
   },
   "outputs": [],
   "source": [
    "def run_3():\n",
    "  import mysql.connector\n",
    "  mydb = mysql.connector.connect(user='root', password='root', host= 'localhost')\n",
    "  cursor = mydb.cursor()\n",
    "  cursor.execute(\"USE walmartSales\")\n",
    "  cursor.execute(\"SELECT COUNT(*) AS unique_product_lines_count FROM unique_product_lines_view \")\n",
    "  res = cursor.fetchall()\n",
    "  print(\"Number of Unique Product Lines in Data: \"+ str(res[0][0]))\n",
    "  mydb.commit()"
   ]
  },
  {
   "cell_type": "code",
   "execution_count": null,
   "metadata": {
    "id": "bbIW9NcfAXZN"
   },
   "outputs": [],
   "source": [
    "def run_4():\n",
    "  import mysql.connector\n",
    "  mydb = mysql.connector.connect(user='root', password='root', host= 'localhost')\n",
    "  cursor = mydb.cursor()\n",
    "  cursor.execute(\"USE walmartSales\")\n",
    "  cursor.execute('''SELECT SUM(quantity) AS total_quantity, product_line\n",
    "                    FROM sales GROUP BY product_line\n",
    "                    ORDER BY total_quantity DESC LIMIT 1''')\n",
    "  res = cursor.fetchall()\n",
    "  print(\"Most Selling Product line is \"+ str(res[0][1]+\" with sale of total Quantity \"+ str(res[0][0])))\n",
    "  cursor.execute('''SELECT SUM(quantity) AS total_quantity, product_line\n",
    "                    FROM sales GROUP BY product_line\n",
    "                    ORDER BY total_quantity DESC''')\n",
    "  result=cursor.fetchall()\n",
    "  qty =[]\n",
    "  prod =[]\n",
    "  exp=[]\n",
    "  for i in result:\n",
    "    qty.append(i[0])\n",
    "    prod.append(i[1])\n",
    "    exp.append(0.02)\n",
    "  plt.pie(qty, labels=prod, autopct='%1.1f%%', explode=exp)\n",
    "  plt.title(\"Sales of Product Lines\")\n",
    "  plt.show()\n",
    "\n",
    "  mydb.commit()"
   ]
  },
  {
   "cell_type": "code",
   "execution_count": null,
   "metadata": {
    "id": "Y481UGh8AZhM"
   },
   "outputs": [],
   "source": [
    "def run_5():\n",
    "    mydb = mysql.connector.connect(user='root', password='root', host='localhost')\n",
    "    cursor = mydb.cursor()\n",
    "    cursor.execute(\"USE walmartSales\")\n",
    "    cursor.execute('''SELECT * FROM revenue_by_month_view''')\n",
    "    res = cursor.fetchall()\n",
    "    rev = []\n",
    "    month = []\n",
    "    print('Month Name', 'Revenue')\n",
    "    for i in res:\n",
    "        print(i[0],\" \", i[1])\n",
    "        month.append(i[0])\n",
    "        rev.append(i[1])\n",
    "    plt.plot(month, rev)\n",
    "    plt.xlabel(\"Months\")\n",
    "    plt.ylabel(\"Revenue every month\")\n",
    "    plt.title(\"Total Revenue by month\")\n",
    "    plt.show()\n",
    "\n",
    "    mydb.commit()"
   ]
  },
  {
   "cell_type": "code",
   "execution_count": null,
   "metadata": {
    "id": "GC3BpnHKAbcY"
   },
   "outputs": [],
   "source": [
    "def run_6():\n",
    "  import mysql.connector\n",
    "  mydb = mysql.connector.connect(user='root', password='root', host= 'localhost')\n",
    "  cursor = mydb.cursor()\n",
    "  cursor.execute(\"USE walmartSales\")\n",
    "  cursor.execute(\"SELECT * FROM month_largest_cogs_view \")\n",
    "  res = cursor.fetchall()\n",
    "  print(str(res[0][0])+\" is the month with largest COGS with \"+str(res[0][1])+\" COGS.\")\n",
    "  cursor.execute('''SELECT MONTHNAME(date) AS month, SUM(cogs) AS cogs\n",
    "                    FROM sales\n",
    "                    GROUP BY month''')\n",
    "  result = cursor.fetchall()\n",
    "  cogs=[]\n",
    "  month=[]\n",
    "  for i in result:\n",
    "    month.append(i[0])\n",
    "    cogs.append(i[1])\n",
    "\n",
    "  plt.bar(month, cogs)\n",
    "  plt.xlabel(\"Months\")\n",
    "  plt.ylabel(\"COGS\")\n",
    "  plt.title(\"COGS per month\")\n",
    "  plt.show()\n",
    "\n",
    "  mydb.commit()"
   ]
  },
  {
   "cell_type": "code",
   "execution_count": null,
   "metadata": {
    "id": "TRE9T1kJgzKI"
   },
   "outputs": [],
   "source": [
    "def run_7():\n",
    "  import mysql.connector\n",
    "  mydb = mysql.connector.connect(user='root', password='root', host= 'localhost')\n",
    "  cursor = mydb.cursor()\n",
    "  cursor.execute(\"USE walmartSales\")\n",
    "  cursor.execute(\"SELECT * FROM product_line_largest_revenue_view\")\n",
    "  res = cursor.fetchall()\n",
    "  print(str(res[0][0])+\" is the product line with largest revenue of \"+str(res[0][1]))\n",
    "  cursor.execute('''SELECT product_line, SUM(total) AS total_rev FROM sales GROUP BY product_line''')\n",
    "  result = cursor.fetchall()\n",
    "  pl=[]\n",
    "  rev=[]\n",
    "  for i in result:\n",
    "    pl.append(i[0])\n",
    "    rev.append(i[1])\n",
    "\n",
    "  plt.bar(pl, rev)\n",
    "  plt.xlabel(\"Product Lines\")\n",
    "  plt.ylabel(\"Total Revenue\")\n",
    "  plt.title(\"Revenue generated by each Product Line\")\n",
    "  plt.xticks(rotation=90)\n",
    "  for i in range(len(pl)):\n",
    "        plt.text(i, rev[i], rev[i], ha = 'center')\n",
    "  plt.show()\n",
    "\n",
    "  mydb.commit()"
   ]
  },
  {
   "cell_type": "code",
   "execution_count": null,
   "metadata": {
    "id": "nsBgyzd-l0B3"
   },
   "outputs": [],
   "source": [
    "def run_8():\n",
    "  import mysql.connector\n",
    "  mydb = mysql.connector.connect(user='root', password='root', host= 'localhost')\n",
    "  cursor = mydb.cursor()\n",
    "  cursor.execute(\"USE walmartSales\")\n",
    "  cursor.execute(\"SELECT * FROM city_largest_revenue_view\")\n",
    "  res = cursor.fetchall()\n",
    "  print(str(res[0][0])+\" is the branch of \"+str(res[0][1])+\" with largest revenue of \"+str(res[0][2]))\n",
    "  cursor.execute('''SELECT branch, city, SUM(total) AS total_rev FROM sales GROUP BY city, branch''')\n",
    "  result = cursor.fetchall()\n",
    "  city=[]\n",
    "  rev=[]\n",
    "  for i in result:\n",
    "    city.append(i[1])\n",
    "    rev.append(i[2])\n",
    "\n",
    "  plt.bar(city, rev)\n",
    "  plt.xlabel(\"Cities\")\n",
    "  plt.ylabel(\"Total Revenue\")\n",
    "  plt.title(\"Revenue generated by each City\")\n",
    "  plt.xticks(rotation=90)\n",
    "  for i in range(len(city)):\n",
    "        plt.text(i, rev[i], rev[i], ha = 'center')\n",
    "  plt.show()\n",
    "\n",
    "  mydb.commit()"
   ]
  },
  {
   "cell_type": "code",
   "execution_count": null,
   "metadata": {
    "id": "6h1bKjb5qaSD"
   },
   "outputs": [],
   "source": [
    "def run_9():\n",
    "  import mysql.connector\n",
    "  mydb = mysql.connector.connect(user = 'root', password = 'root', host = 'localhost')\n",
    "  cursor = mydb.cursor()\n",
    "  cursor.execute(\"USE walmartSales\")\n",
    "  cursor.execute(\"SELECT * FROM product_line_largest_vat_view\")\n",
    "  res = cursor.fetchall()\n",
    "  print(str(res[0][0])+\" product line has largest VAT with value \" +str(res[0][1]))\n",
    "  mydb.commit()"
   ]
  },
  {
   "cell_type": "code",
   "execution_count": null,
   "metadata": {
    "id": "L8wPC0N9uMk1"
   },
   "outputs": [],
   "source": [
    "def run_10():\n",
    "  import mysql.connector\n",
    "  mydb = mysql.connector.connect(user = 'root', password = 'root', host = 'localhost')\n",
    "  cursor = mydb.cursor()\n",
    "  cursor.execute(\"USE walmartSales\")\n",
    "  cursor.execute('''SELECT product_line,\n",
    "    CASE\n",
    "        WHEN avg_quantity > (SELECT AVG(quantity) FROM sales) THEN 'Good'\n",
    "        ELSE 'Bad'\n",
    "    END AS remark\n",
    "FROM\n",
    "    (SELECT\n",
    "        product_line,\n",
    "        AVG(quantity) AS avg_quantity\n",
    "    FROM\n",
    "        sales\n",
    "    GROUP BY\n",
    "        product_line) AS product_line_avg_quantity''')\n",
    "  result = cursor.fetchall()\n",
    "  qty =[]\n",
    "  remark =[]\n",
    "  exp=[]\n",
    "  for i in result:\n",
    "    qty.append(i[0])\n",
    "    remark.append(i[1])\n",
    "    exp.append(0.02)\n",
    "  plt.pie(qty, labels=remark, autopct='%1.1f%%', explode=exp)\n",
    "  plt.title(\"Average Sales of Product Lines\")\n",
    "  plt.show()\n",
    "  for i in result:\n",
    "    print(str(i[0])+\" has \"+str(i[1])+\" average sales.\")\n",
    "\n",
    "\n",
    "  mydb.commit()"
   ]
  },
  {
   "cell_type": "code",
   "execution_count": null,
   "metadata": {
    "id": "2bTxV20b8aLa"
   },
   "outputs": [],
   "source": [
    "def run_11():\n",
    "  import mysql.connector\n",
    "  mydb = mysql.connector.connect(user = 'root', password = 'root', host = 'localhost')\n",
    "  cursor = mydb.cursor()\n",
    "  cursor.execute(\"Use walmartSales\")\n",
    "  cursor.execute(\"SELECT * FROM branches_above_avg_sales_view\")\n",
    "  res = cursor.fetchall()\n",
    "  print(str(res[0][0]) + \" branch sold more products than average product sold with value \" + str(res[0][1]))\n",
    "  mydb.commit()"
   ]
  },
  {
   "cell_type": "code",
   "execution_count": null,
   "metadata": {
    "id": "BkJ-7FHA-3rC"
   },
   "outputs": [],
   "source": [
    "def run_12():\n",
    "  import mysql.connector\n",
    "  mydb = mysql.connector.connect(user = 'root', password = 'root', host = 'localhost')\n",
    "  cursor = mydb.cursor()\n",
    "  cursor.execute(\"Use walmartSales\")\n",
    "  cursor.execute(\"SELECT gender, product_line, COUNT(*) AS total_count FROM sales GROUP BY gender, product_line ORDER BY total_count DESC\")\n",
    "  res = cursor.fetchall()\n",
    "  print(str(res[0][1]) + \" is the most common product line of gender \" + str(res[0][0]))\n",
    "  mydb.commit()"
   ]
  },
  {
   "cell_type": "code",
   "execution_count": null,
   "metadata": {
    "id": "sC41X2RHFUYc"
   },
   "outputs": [],
   "source": [
    "def run_13():\n",
    "    import mysql.connector\n",
    "    mydb = mysql.connector.connect(user='root', password='root', host='localhost')\n",
    "    cursor = mydb.cursor()\n",
    "    cursor.execute(\"USE walmartSales\")\n",
    "    cursor.execute(\"SELECT product_line, AVG(rating) AS avg_rating FROM sales GROUP BY product_line\")\n",
    "    print(\"Average rating of each product line: \")\n",
    "    print(\"Product Line\", \"Average rating\")\n",
    "    pl = []\n",
    "    ravg = []\n",
    "    for i in cursor:\n",
    "        print(i[0], i[1])\n",
    "        pl.append(i[0])\n",
    "        ravg.append(i[1])\n",
    "    plt.bar(pl, ravg)\n",
    "    plt.xlabel(\"Product Line\")\n",
    "    plt.ylabel(\"Average rating\")\n",
    "    plt.title(\"Average rating of each product line\")\n",
    "    plt.xticks(rotation=90)\n",
    "    for i in range(len(pl)):\n",
    "        plt.text(pl[i], ravg[i], round(ravg[i], 2), ha='center', va='bottom')\n",
    "    plt.show()\n",
    "    mydb.commit()"
   ]
  },
  {
   "cell_type": "code",
   "execution_count": null,
   "metadata": {
    "id": "RuQE5FELl163"
   },
   "outputs": [],
   "source": [
    "def run_14():\n",
    "    import mysql.connector\n",
    "    mydb = mysql.connector.connect(user = 'root', password = 'root', host = 'localhost')\n",
    "    cursor = mydb.cursor()\n",
    "    cursor.execute(\"Use walmartSales\")\n",
    "    cursor.execute(\"SELECT payment, COUNT(*) AS payment_count FROM sales GROUP BY payment ORDER BY payment_count DESC LIMIT 1\")\n",
    "    res=cursor.fetchall()\n",
    "    print(\"Most common payment method is \" + str(res[0][0]))\n",
    "    mydb.commit()"
   ]
  },
  {
   "cell_type": "code",
   "execution_count": null,
   "metadata": {
    "id": "HJUyJjZaH8XI"
   },
   "outputs": [],
   "source": [
    "def run_15():\n",
    "  import mysql.connector\n",
    "  mydb = mysql.connector.connect(user = 'root', password = 'root', host = 'localhost')\n",
    "  cursor = mydb.cursor()\n",
    "  cursor.execute(\"Use walmartSales\")\n",
    "  cursor.execute(\"SELECT COUNT(DISTINCT customer_type) AS unique_customer_types_count FROM sales\")\n",
    "  res = cursor.fetchall()\n",
    "  print(\"Data have \" + str(res[0][0]) + \" unique customer types\")\n",
    "  mydb.commit()"
   ]
  },
  {
   "cell_type": "code",
   "execution_count": null,
   "metadata": {
    "id": "Y9MyM2iZNIyk"
   },
   "outputs": [],
   "source": [
    "def run_16():\n",
    "  import mysql.connector\n",
    "  mydb = mysql.connector.connect(user = 'root', password = 'root', host = 'localhost')\n",
    "  cursor = mydb.cursor()\n",
    "  cursor.execute(\"Use walmartSales\")\n",
    "  cursor.execute(\"SELECT COUNT(DISTINCT payment) AS unique_payment_methods_count FROM sales\")\n",
    "  res = cursor.fetchall()\n",
    "  print(\"Data have \" + str(res[0][0]) + \" unique methods\")\n",
    "  mydb.commit()"
   ]
  },
  {
   "cell_type": "code",
   "execution_count": null,
   "metadata": {
    "id": "gliC8JOiS3hf"
   },
   "outputs": [],
   "source": [
    "def run_17():\n",
    "  import mysql.connector\n",
    "  mydb = mysql.connector.connect(user = 'root', password = 'root',host = 'localhost')\n",
    "  cursor = mydb.cursor()\n",
    "  cursor.execute(\"Use walmartSales\")\n",
    "  cursor.execute(\"SELECT customer_type, COUNT(*) AS count FROM sales GROUP BY customer_type ORDER BY count DESC LIMIT 1\")\n",
    "  res = cursor.fetchall()\n",
    "  print(str(res[0][0]) + \" is the most common customer type with value \" + str(res[0][1]))\n",
    "  mydb.commit()"
   ]
  },
  {
   "cell_type": "code",
   "execution_count": null,
   "metadata": {
    "id": "tNGDboTgUJ--"
   },
   "outputs": [],
   "source": [
    "def run_18():\n",
    "    import mysql.connector\n",
    "    mydb = mysql.connector.connect(user='root', password='root', host='localhost')\n",
    "    cursor = mydb.cursor()\n",
    "    cursor.execute(\"USE walmartSales\")\n",
    "    cursor.execute(\"SELECT customer_type, SUM(quantity) AS total_quantity FROM sales GROUP BY customer_type ORDER BY total_quantity DESC LIMIT 1\")\n",
    "    res = cursor.fetchall()\n",
    "    print(str(res[0][0]) + \"customer type buys the most with value\" + str(res[0][1]))\n",
    "\n",
    "    c_types = []\n",
    "    quantities = []\n",
    "    cursor.execute(\"SELECT customer_type, SUM(quantity) AS total_quantity FROM sales GROUP BY customer_type ORDER BY total_quantity\")\n",
    "    result = cursor.fetchall()\n",
    "    for i in result:\n",
    "        c_types.append(i[0])\n",
    "        quantities.append(i[1])\n",
    "\n",
    "    plt.pie(quantities, labels=c_types, autopct='%1.1f%%', startangle=140)\n",
    "    plt.title('Distribution of Total Quantities by Customer Type')\n",
    "    plt.show()\n",
    "    mydb.commit()"
   ]
  },
  {
   "cell_type": "code",
   "execution_count": null,
   "metadata": {
    "id": "zy8vc5MgW93p"
   },
   "outputs": [],
   "source": [
    "def run_19():\n",
    "    import mysql.connector\n",
    "    mydb = mysql.connector.connect(user='root', password='root', host='localhost')\n",
    "    cursor = mydb.cursor()\n",
    "    cursor.execute(\"USE walmartSales\")\n",
    "    cursor.execute(\"SELECT gender, COUNT(*) AS gender_count FROM sales GROUP BY gender ORDER BY gender_count DESC LIMIT 1\")\n",
    "    res = cursor.fetchall()\n",
    "    print(str(res[0][0]) + \" is the gender of most common customers and \" + str(res[0][1]) + \" in number\")\n",
    "    mydb.commit()"
   ]
  },
  {
   "cell_type": "code",
   "execution_count": null,
   "metadata": {
    "id": "XuTliYdEYdz6"
   },
   "outputs": [],
   "source": [
    "def run_20():\n",
    "  import mysql.connector\n",
    "  mydb = mysql.connector.connect(user = 'root', password = 'root', host = 'localhost')\n",
    "  cursor = mydb.cursor()\n",
    "  cursor.execute(\"Use walmartSales\")\n",
    "  cursor.execute(\"SELECT branch, gender, COUNT(*) AS gender_count FROM sales GROUP BY branch, gender\")\n",
    "  print(\"Gender distribution per branch: \")\n",
    "  print(\"Branch\", \"Gender\", \"Gender count\")\n",
    "  for i in cursor:\n",
    "    print(i[0], i[1], i[2])\n",
    "  mydb.commit()"
   ]
  },
  {
   "cell_type": "code",
   "execution_count": null,
   "metadata": {
    "id": "eHu35uA0lb32"
   },
   "outputs": [],
   "source": [
    "def run_21():\n",
    "    import mysql.connector\n",
    "    mydb = mysql.connector.connect(user='root', password='root', host='localhost')\n",
    "    cursor = mydb.cursor()\n",
    "    cursor.execute(\"USE walmartSales\")\n",
    "    cursor.execute(\"SELECT HOUR(Time) AS hour_of_day, AVG(rating) AS avg_rating FROM sales GROUP BY hour_of_day ORDER BY avg_rating DESC\")\n",
    "    res = cursor.fetchall()\n",
    "    print(\"At \" + str(res[0][0]) + \":00 time customers give most ratings with average rating \" + str(res[0][1]))\n",
    "    time_of_day = []\n",
    "    avg_ratings = []\n",
    "    for i in res:\n",
    "        time_of_day.append(i[0])\n",
    "        avg_ratings.append(i[1])\n",
    "    plt.bar(time_of_day, avg_ratings)\n",
    "    plt.xlabel('Hour of Day')\n",
    "    plt.ylabel('Average Rating')\n",
    "    plt.title('Average Rating by Hour of Day')\n",
    "    plt.xticks(rotation=90)\n",
    "    plt.show()\n",
    "\n",
    "    mydb.commit()\n"
   ]
  },
  {
   "cell_type": "code",
   "execution_count": null,
   "metadata": {
    "id": "1ib1WSBQGhkz"
   },
   "outputs": [],
   "source": [
    "def run_22():\n",
    "  import mysql.connector\n",
    "  mydb = mysql.connector.connect(user = 'root', password = 'root', host = 'localhost')\n",
    "  cursor = mydb.cursor()\n",
    "  cursor.execute(\"Use walmartSales\")\n",
    "  cursor.execute(\"SELECT branch, time_of_day, AVG(rating) AS avg_rating FROM sales GROUP BY branch, time_of_day ORDER BY branch, avg_rating DESC\")\n",
    "  print(\"Time of the day at which customers give most ratings per branch: \")\n",
    "  print(\"Branch\", \"Time of the day\", \"Average rating\")\n",
    "  for i in cursor:\n",
    "    print(i[0], i[1], i[2])\n",
    "  mydb.commit()"
   ]
  },
  {
   "cell_type": "code",
   "execution_count": null,
   "metadata": {
    "id": "BcNMP3_5QOaS"
   },
   "outputs": [],
   "source": [
    "def run_23():\n",
    "    import mysql.connector\n",
    "    mydb = mysql.connector.connect(user='root', password='root', host='localhost')\n",
    "    cursor = mydb.cursor()\n",
    "    cursor.execute(\"USE walmartSales\")\n",
    "    cursor.execute(\"SELECT DAYNAME(date) AS day_of_week, AVG(rating) AS avg_rating FROM sales GROUP BY day_of_week ORDER BY avg_rating DESC\")\n",
    "    res = cursor.fetchall()\n",
    "    print(str(res[0][0]) + \" has the best average rating \" + str(res[0][1]))\n",
    "    days = []\n",
    "    avg_ratings = []\n",
    "    for i in res:\n",
    "        days.append(i[0])\n",
    "        avg_ratings.append(i[1])\n",
    "    plt.bar(days, avg_ratings)\n",
    "    plt.xlabel('Day of Week')\n",
    "    plt.ylabel('Average Rating')\n",
    "    plt.title('Average Rating by Day of Week')\n",
    "    plt.xticks(rotation=90)\n",
    "    plt.show()\n",
    "    mydb.commit()"
   ]
  },
  {
   "cell_type": "code",
   "execution_count": null,
   "metadata": {
    "id": "xqM61WrbRUzD"
   },
   "outputs": [],
   "source": [
    "def run_24():\n",
    "  import mysql.connector\n",
    "  mydb = mysql.connector.connect(user = 'root', passqord = 'root', host = 'localhost')\n",
    "  cursor = mydb.cursor()\n",
    "  cursor.execute(\"Use walmartSales\")\n",
    "  cursor.execute(\"SELECT branch, day_name, AVG(rating) AS avg_rating FROM sales GROUP BY branch, day_name ORDER BY branch, avg_rating DESC\")\n",
    "  print(\"Day name of the week that has the best average rating: \")\n",
    "  print(\"Branch\", \"Day name\", \"Average rating\")\n",
    "  for i in cursor:\n",
    "    print(i[0], i[1], i[2])\n",
    "  mydb.commit()"
   ]
  },
  {
   "cell_type": "code",
   "execution_count": null,
   "metadata": {
    "id": "tjdWAomOSsRA"
   },
   "outputs": [],
   "source": [
    "def run_25():\n",
    "  import mysql.connector\n",
    "  mydb = mysql.connector.connect(user = 'root', password = 'root', host = 'localhost')\n",
    "  cursor = mydb.cursor()\n",
    "  cursor.execute(\"Use walmartSales\")\n",
    "  cursor.execute(\"SELECT day_name, time_of_day, COUNT(*) AS total_sales FROM sales GROUP BY day_name, time_of_day\")\n",
    "  print(\"Number of sales made in each time of the day per weekday: \")\n",
    "  print(\"Day\", \"Time of the day\", \"Total Sales\")\n",
    "  for i in cursor:\n",
    "    print(i[0], i[1], i[2])\n",
    "  mydb.commit()"
   ]
  },
  {
   "cell_type": "code",
   "execution_count": null,
   "metadata": {
    "id": "X12X5tD0VwBY"
   },
   "outputs": [],
   "source": [
    "def run_26():\n",
    "  import mysql.connector\n",
    "  mydb = mysql.connector.connect(user = 'root', password = 'root', host = 'localhost')\n",
    "  cursor = mydb.cursor()\n",
    "  cursor.execute(\"Use walmartSales\")\n",
    "  cursor.execute(\"SELECT customer_type, SUM(total) AS total_revenue FROM sales GROUP BY customer_type ORDER BY total_revenue DESC LIMIT 1\")\n",
    "  res = cursor.fetchall()\n",
    "  print(\"Customer type \" + str(res[0][0]) + \" brings the most revenue with value \" + str(res[0][1]))\n",
    "  mydb.commit()"
   ]
  },
  {
   "cell_type": "code",
   "execution_count": null,
   "metadata": {
    "id": "numKADfkXA7N"
   },
   "outputs": [],
   "source": [
    "def run_27():\n",
    "  import mysql.connector\n",
    "  mydb = mysql.connector.connect(user = 'root', password = 'root', host = 'localhost')\n",
    "  cursor = mydb.cursor()\n",
    "  cursor.execute(\"Use walmartSales\")\n",
    "  cursor.execute(\"SELECT city, AVG(tax_pct) AS avg_tax_pct FROM sales GROUP BY city ORDER BY avg_tax_pct DESC LIMIT 1\")\n",
    "  res = cursor.fetchall()\n",
    "  print(str(res[0][0]) + \" city has the largest  tax/VAT precent with average value \" + str(res[0][1]))\n",
    "  mydb.commit()"
   ]
  },
  {
   "cell_type": "code",
   "execution_count": null,
   "metadata": {
    "id": "S8pU6SXoYkfe"
   },
   "outputs": [],
   "source": [
    "def run_28():\n",
    "  import mysql.connector\n",
    "  mydb = mysql.connector.connect(user = 'root', password = 'root', host = 'localhost')\n",
    "  cursor = mydb.cursor()\n",
    "  cursor.execute(\"Use walmartSales\")\n",
    "  cursor.execute(\"SELECT customer_type, AVG(tax_pct) AS avg_vat_payment FROM sales GROUP BY customer_type ORDER BY avg_vat_payment DESC LIMIT 1\")\n",
    "  res = cursor.fetchall()\n",
    "  print(\"Customer type \" + str(res[0][0]) + \" pays the most in VAT with average value \" + str(res[0][1]))\n",
    "  mydb.commit()"
   ]
  },
  {
   "cell_type": "code",
   "execution_count": null,
   "metadata": {
    "id": "--v9PA6iMax5"
   },
   "outputs": [],
   "source": [
    "def run_29():\n",
    "  import mysql.connector\n",
    "  mydb = mysql.connector.connect(user = 'root', password = 'root', host = 'localhost')\n",
    "  cursor = mydb.cursor()\n",
    "  cursor.execute(\"Use walmartSales\")\n",
    "  #cursor.execute(\"DELETE FROM sales WHERE 'Invoice ID' = '750-67-8427'\")\n",
    "  #cursor.execute(\"INSERT INTO sales VALUES ('750-67-8427', 'B', 'Yangon', 'Member', 'Male', 'Health and beauty', 50, 1, 5, 55, '2024-04-24', '11:00:00', 'Credit Card', 50, 10, 5, 3)\")\n",
    "  cursor.execute(\"INSERT INTO sales VALUES ('750-67-8427', 'B', 'Yangon', 'Member', 'Unknown', 'Health and beauty', 50, 1, 5, 55, '2024-04-24', '11:00:00', 'Credit Card', 50, 10, 5, 3)\")\n",
    "  res = cursor.fetchall()\n",
    "  #print(\"Row deleted\")\n",
    "  #print(\"Row added\")\n",
    "  mydb.commit();"
   ]
  },
  {
   "cell_type": "code",
   "execution_count": null,
   "metadata": {
    "id": "4n7Mz5PV1fu6"
   },
   "outputs": [],
   "source": [
    "menu()\n",
    "#work done by ritika and omni"
   ]
  }
 ],
 "metadata": {
  "colab": {
   "include_colab_link": true,
   "provenance": []
  },
  "kernelspec": {
   "display_name": "Python 3",
   "name": "python3"
  },
  "language_info": {
   "name": "python"
  }
 },
 "nbformat": 4,
 "nbformat_minor": 0
}
